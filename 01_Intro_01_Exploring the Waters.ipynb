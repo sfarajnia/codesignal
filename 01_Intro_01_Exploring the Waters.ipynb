{
 "cells": [
  {
   "cell_type": "markdown",
   "id": "f51783b8-fca3-4ae5-a5a3-52b800d72048",
   "metadata": {},
   "source": [
    "## alternatingSums\n",
    "Several people are standing in a row and need to be divided into two teams. The first person goes into team 1, the second goes into team 2, the third goes into team 1 again, the fourth into team 2, and so on.\n",
    "\n",
    "You are given an array of positive integers - the weights of the people. Return an array of two integers, where the first element is the total weight of team 1, and the second element is the total weight of team 2 after the division is complete.\n",
    "\n",
    "Example\n",
    "\n",
    "For a = [50, 60, 60, 45, 70], the output should be\n",
    "solution(a) = [180, 105].\n",
    "\n",
    "Input/Output\n",
    "\n",
    "[execution time limit] 4 seconds (py3)\n",
    "\n",
    "[input] array.integer a\n",
    "\n",
    "Guaranteed constraints:\n",
    "1 ≤ a.length ≤ 105,\n",
    "45 ≤ a[i] ≤ 100.\n",
    "\n",
    "[output] array.integer"
   ]
  },
  {
   "cell_type": "code",
   "execution_count": null,
   "id": "b3085413-7fee-4e80-b31a-a0939a23eb59",
   "metadata": {},
   "outputs": [],
   "source": [
    "# my solution\n",
    "def solution(a):\n",
    "    weights = [0, 0]\n",
    "    i = 0\n",
    "    for man in a:\n",
    "        weights[i] += man\n",
    "        i = (i + 1) % 2\n",
    "    return weights"
   ]
  },
  {
   "cell_type": "code",
   "execution_count": null,
   "id": "2ff9ecf8-da1d-4b4e-870d-485839f297fa",
   "metadata": {},
   "outputs": [],
   "source": [
    "# alternate practice\n",
    "def solution(a):\n",
    "    return [sum(a[::2]),sum(a[1::2])]"
   ]
  },
  {
   "cell_type": "markdown",
   "id": "f6b9f4c8-2523-4185-bc01-55552e1279e5",
   "metadata": {},
   "source": [
    "## Add Border\n",
    "Given a rectangular matrix of characters, add a border of asterisks(*) to it.\n",
    "\n",
    "Example\n",
    "\n",
    "For\n",
    "\n",
    "picture = [\"abc\",\n",
    "           \"ded\"]\n",
    "the output should be\n",
    "\n",
    "solution(picture) = [\"*****\",\n",
    "                     \"*abc*\",\n",
    "                     \"*ded*\",\n",
    "                     \"*****\"]\n",
    "Input/Output\n",
    "\n",
    "[execution time limit] 4 seconds (py3)\n",
    "\n",
    "[input] array.string picture\n",
    "\n",
    "A non-empty array of non-empty equal-length strings.\n",
    "\n",
    "Guaranteed constraints:\n",
    "1 ≤ picture.length ≤ 100,\n",
    "1 ≤ picture[i].length ≤ 100.\n",
    "\n",
    "[output] array.string\n",
    "\n",
    "The same matrix of characters, framed with a border of asterisks of width 1."
   ]
  },
  {
   "cell_type": "code",
   "execution_count": null,
   "id": "a15f98da-0812-473b-a2b9-4c1fbb510d30",
   "metadata": {},
   "outputs": [],
   "source": [
    "# my solution\n",
    "def solution(picture):\n",
    "    pic_ast = []\n",
    "    pic_ast.append(\"*\"*(len(picture[0])+2))\n",
    "    for s in picture:\n",
    "        pic_ast.append(f\"*{s}*\")\n",
    "    pic_ast.append(\"*\"*(len(picture[0])+2))\n",
    "    return pic_ast"
   ]
  },
  {
   "cell_type": "code",
   "execution_count": 1,
   "id": "1e6e5dd5-e6df-47ab-95e1-55f4adfc88ec",
   "metadata": {},
   "outputs": [],
   "source": [
    "#alternate practice\n",
    "def solution(picture):\n",
    "    l=len(picture[0])+2\n",
    "    return [\"*\"*l]+[x.center(l,\"*\") for x in picture]+[\"*\"*l]"
   ]
  },
  {
   "cell_type": "markdown",
   "id": "53450387-53b1-4b2c-a115-feeb163f4850",
   "metadata": {},
   "source": [
    "## Are Similar?\n",
    "Two arrays are called similar if one can be obtained from another by swapping at most one pair of elements in one of the arrays.\n",
    "\n",
    "Given two arrays a and b, check whether they are similar.\n",
    "\n",
    "Example\n",
    "\n",
    "For a = [1, 2, 3] and b = [1, 2, 3], the output should be\n",
    "solution(a, b) = true.\n",
    "\n",
    "The arrays are equal, no need to swap any elements.\n",
    "\n",
    "For a = [1, 2, 3] and b = [2, 1, 3], the output should be\n",
    "solution(a, b) = true.\n",
    "\n",
    "We can obtain b from a by swapping 2 and 1 in b.\n",
    "\n",
    "For a = [1, 2, 2] and b = [2, 1, 1], the output should be\n",
    "solution(a, b) = false.\n",
    "\n",
    "Any swap of any two elements either in a or in b won't make a and b equal.\n",
    "\n",
    "Input/Output\n",
    "\n",
    "[execution time limit] 4 seconds (py3)\n",
    "\n",
    "[input] array.integer a\n",
    "\n",
    "Array of integers.\n",
    "\n",
    "Guaranteed constraints:\n",
    "3 ≤ a.length ≤ 105,\n",
    "1 ≤ a[i] ≤ 1000.\n",
    "\n",
    "[input] array.integer b\n",
    "\n",
    "Array of integers of the same length as a.\n",
    "\n",
    "Guaranteed constraints:\n",
    "b.length = a.length,\n",
    "1 ≤ b[i] ≤ 1000.\n",
    "\n",
    "[output] boolean\n",
    "\n",
    "true if a and b are similar, false otherwise"
   ]
  },
  {
   "cell_type": "code",
   "execution_count": 19,
   "id": "5ff761f8-2980-417e-afe1-af2feeace674",
   "metadata": {},
   "outputs": [],
   "source": [
    "# my solution\n",
    "def solution(a, b):\n",
    "    dif = []\n",
    "    for x, y in zip(a, b):\n",
    "        if x != y:\n",
    "            dif.append([x,y])\n",
    "    if len(dif) == 0: return True\n",
    "    if len(dif) > 2 or len(dif)==1 : return False\n",
    "    if dif[0][0] == dif[1][1] and dif[0][1] == dif[1][0]:\n",
    "        return True\n",
    "    else:\n",
    "        return False"
   ]
  },
  {
   "cell_type": "code",
   "execution_count": 34,
   "id": "3668e640-01fd-410a-982e-59c366ba0f20",
   "metadata": {},
   "outputs": [],
   "source": [
    "# alternate practice\n",
    "def solution(A, B):\n",
    "    return sorted(A)==sorted(B) and sum([a!=b for a,b in zip(A,B)])<=2"
   ]
  }
 ],
 "metadata": {
  "kernelspec": {
   "display_name": "Python 3 (ipykernel)",
   "language": "python",
   "name": "python3"
  },
  "language_info": {
   "codemirror_mode": {
    "name": "ipython",
    "version": 3
   },
   "file_extension": ".py",
   "mimetype": "text/x-python",
   "name": "python",
   "nbconvert_exporter": "python",
   "pygments_lexer": "ipython3",
   "version": "3.8.11"
  }
 },
 "nbformat": 4,
 "nbformat_minor": 5
}
